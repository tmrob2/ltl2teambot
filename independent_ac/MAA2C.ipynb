{
 "cells": [
  {
   "cell_type": "code",
   "execution_count": 2,
   "id": "124ec076",
   "metadata": {},
   "outputs": [],
   "source": [
    "import gym\n",
    "import numpy as np\n",
    "import torch"
   ]
  },
  {
   "cell_type": "code",
   "execution_count": 1,
   "id": "52cfca48",
   "metadata": {},
   "outputs": [],
   "source": [
    "import rware\n",
    "import gym"
   ]
  },
  {
   "cell_type": "code",
   "execution_count": null,
   "id": "c2223eb5",
   "metadata": {},
   "outputs": [],
   "source": [
    "from rware import RewardType\n",
    "env = gym.make(\"rware-tiny-2ag-v1\", reward_type=RewardType.GLOBAL)"
   ]
  }
 ],
 "metadata": {
  "kernelspec": {
   "display_name": "Python 3.8.13 ('pytorch')",
   "language": "python",
   "name": "python3"
  },
  "language_info": {
   "codemirror_mode": {
    "name": "ipython",
    "version": 3
   },
   "file_extension": ".py",
   "mimetype": "text/x-python",
   "name": "python",
   "nbconvert_exporter": "python",
   "pygments_lexer": "ipython3",
   "version": "3.8.13"
  },
  "vscode": {
   "interpreter": {
    "hash": "49580feac68f439b6f964b627557f311925fa5d7001eb85acc693f413ce34a62"
   }
  }
 },
 "nbformat": 4,
 "nbformat_minor": 5
}
